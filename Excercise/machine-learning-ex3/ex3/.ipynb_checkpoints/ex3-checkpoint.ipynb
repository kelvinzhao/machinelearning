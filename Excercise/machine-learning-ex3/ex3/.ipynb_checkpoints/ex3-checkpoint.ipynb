{
 "cells": [
  {
   "cell_type": "markdown",
   "metadata": {},
   "source": [
    "## 手写数字识别"
   ]
  },
  {
   "cell_type": "markdown",
   "metadata": {},
   "source": [
    "### 先用one vs rest的方式实现"
   ]
  },
  {
   "cell_type": "code",
   "execution_count": 257,
   "metadata": {
    "ExecuteTime": {
     "end_time": "2020-05-29T01:19:28.359995Z",
     "start_time": "2020-05-29T01:19:28.352793Z"
    }
   },
   "outputs": [],
   "source": [
    "import pandas as pd\n",
    "import numpy as np\n",
    "import matplotlib.pyplot as plt\n",
    "from scipy.io import loadmat\n",
    "from scipy.optimize import minimize\n",
    "import random\n",
    "from sklearn.metrics import classification_report"
   ]
  },
  {
   "cell_type": "code",
   "execution_count": 395,
   "metadata": {
    "ExecuteTime": {
     "end_time": "2020-05-29T06:22:29.820820Z",
     "start_time": "2020-05-29T06:22:29.695833Z"
    }
   },
   "outputs": [
    {
     "name": "stdout",
     "output_type": "stream",
     "text": [
      "(5000, 400) (5000, 1)\n",
      "[ 1  2  3  4  5  6  7  8  9 10]\n"
     ]
    }
   ],
   "source": [
    "data = loadmat('ex3data1.mat')\n",
    "print(data['X'].shape, data['y'].shape)\n",
    "print(np.unique(data['y']))"
   ]
  },
  {
   "cell_type": "markdown",
   "metadata": {},
   "source": [
    "### 定义必要的方法"
   ]
  },
  {
   "cell_type": "code",
   "execution_count": 169,
   "metadata": {
    "ExecuteTime": {
     "end_time": "2020-05-28T13:32:11.961322Z",
     "start_time": "2020-05-28T13:32:11.945632Z"
    }
   },
   "outputs": [],
   "source": [
    "def sigmoid(z):\n",
    "    return 1 / (1 + np.exp(-z))\n",
    "\n",
    "\n",
    "def computeCost(theta, X, y, lam=1):\n",
    "    first = -np.log(sigmoid(theta.T @ X.T)) @ y\n",
    "    second = np.log(1 - sigmoid(theta.T @ X.T)) @ (1 - y)\n",
    "    reg = lam / (2 * len(y)) * (theta[1:].T @ theta[1:])\n",
    "    return (first - second) / len(y) + reg\n",
    "\n",
    "\n",
    "def gradient(theta, X, y, lam=1):\n",
    "    reg = lam * theta[1:] / len(y)\n",
    "    #reg = np.insert(reg,0,0)\n",
    "    reg = np.concatenate([[0], reg])\n",
    "    return X.T @ (sigmoid(X @ theta) - y) / len(y) + reg\n",
    "\n",
    "\n",
    "def one_vs_all(X, y, num_labels, lam=1):\n",
    "    all_theta = np.zeros((num_labels, X.shape[1]))\n",
    "    for i in range(1, num_labels + 1):\n",
    "        y_i = np.apply_along_axis(lambda x: np.where(x == i, 1, 0), 0,\n",
    "                                  y.ravel())\n",
    "        theta = np.zeros(X.shape[1])\n",
    "        result = minimize(fun=computeCost,\n",
    "                          x0=theta,\n",
    "                          args=(X, y_i, lam),\n",
    "                          method='TNC',\n",
    "                          jac=gradient)\n",
    "        all_theta[i - 1] = result.x\n",
    "    return all_theta"
   ]
  },
  {
   "cell_type": "markdown",
   "metadata": {},
   "source": [
    "### 构造数据"
   ]
  },
  {
   "cell_type": "code",
   "execution_count": 397,
   "metadata": {
    "ExecuteTime": {
     "end_time": "2020-05-29T07:24:26.033012Z",
     "start_time": "2020-05-29T07:24:25.994819Z"
    }
   },
   "outputs": [
    {
     "data": {
      "text/plain": [
       "((5000, 401), (5000, 1), (10, 401), (5000,), (401,))"
      ]
     },
     "execution_count": 397,
     "metadata": {},
     "output_type": "execute_result"
    }
   ],
   "source": [
    "# 测试一下各要素的维度是否正确\n",
    "X = data['X']\n",
    "y = data['y']\n",
    "X = np.insert(X, 0, 1, axis=1)\n",
    "all_theta = np.zeros((10, X.shape[1]))\n",
    "y_10 = np.apply_along_axis(lambda x: np.where(x == 10, 1, 0),\n",
    "                           axis=0,\n",
    "                           arr=y.ravel())\n",
    "theta = np.zeros(X.shape[1])\n",
    "X.shape, y.shape, all_theta.shape, y_10.shape, theta.shape"
   ]
  },
  {
   "cell_type": "code",
   "execution_count": 403,
   "metadata": {
    "ExecuteTime": {
     "end_time": "2020-05-29T07:33:15.108193Z",
     "start_time": "2020-05-29T07:33:06.916808Z"
    }
   },
   "outputs": [
    {
     "data": {
      "text/plain": [
       "array([[-2.38336222e+00,  0.00000000e+00,  0.00000000e+00, ...,\n",
       "         1.30430557e-03, -7.26793809e-10,  0.00000000e+00],\n",
       "       [-3.18324611e+00,  0.00000000e+00,  0.00000000e+00, ...,\n",
       "         4.45381262e-03, -5.07780661e-04,  0.00000000e+00],\n",
       "       [-4.79997519e+00,  0.00000000e+00,  0.00000000e+00, ...,\n",
       "        -2.87321309e-05, -2.47249198e-07,  0.00000000e+00],\n",
       "       ...,\n",
       "       [-7.98754897e+00,  0.00000000e+00,  0.00000000e+00, ...,\n",
       "        -8.96129212e-05,  7.23339068e-06,  0.00000000e+00],\n",
       "       [-4.57241623e+00,  0.00000000e+00,  0.00000000e+00, ...,\n",
       "        -1.33645939e-03,  9.99306115e-05,  0.00000000e+00],\n",
       "       [-5.40569111e+00,  0.00000000e+00,  0.00000000e+00, ...,\n",
       "        -1.16724192e-04,  7.88964179e-06,  0.00000000e+00]])"
      ]
     },
     "execution_count": 403,
     "metadata": {},
     "output_type": "execute_result"
    }
   ],
   "source": [
    "all_theta = one_vs_all(X, y, 10, lam=1)\n",
    "all_theta"
   ]
  },
  {
   "cell_type": "markdown",
   "metadata": {},
   "source": [
    "### 根据X值针对10个类别分别进行预测，并返回概率最高的类"
   ]
  },
  {
   "cell_type": "code",
   "execution_count": 405,
   "metadata": {
    "ExecuteTime": {
     "end_time": "2020-05-29T07:33:30.091571Z",
     "start_time": "2020-05-29T07:33:30.080178Z"
    }
   },
   "outputs": [],
   "source": [
    "def predict_all(theta, X):\n",
    "    pos = np.argmax(sigmoid(X @ theta.T), axis=1) + 1\n",
    "    return pos\n",
    "\n",
    "\n",
    "def accuracy(theta, X, y):\n",
    "    predictions = predict_all(theta, X)\n",
    "    print(predictions)\n",
    "    print(y.ravel())\n",
    "    #correct = [1 if a == b else 0 for (a, b) in zip(predictions, y.ravel())]\n",
    "    #accuracy = np.mean(correct)\n",
    "    accuracy = 1 - np.count_nonzero(predictions - y.ravel()) / len(predictions)\n",
    "    print('accuracy = {0}%'.format(accuracy * 100))"
   ]
  },
  {
   "cell_type": "code",
   "execution_count": 406,
   "metadata": {
    "ExecuteTime": {
     "end_time": "2020-05-29T07:33:32.777427Z",
     "start_time": "2020-05-29T07:33:32.761618Z"
    }
   },
   "outputs": [
    {
     "name": "stdout",
     "output_type": "stream",
     "text": [
      "[10 10 10 ...  9  9  7]\n",
      "[10 10 10 ...  9  9  9]\n",
      "accuracy = 94.46%\n"
     ]
    }
   ],
   "source": [
    "accuracy(all_theta,X,y)"
   ]
  },
  {
   "cell_type": "markdown",
   "metadata": {},
   "source": [
    "#### 用图片数据来校验\n",
    "随机调取一个图片的数据，识别其数字"
   ]
  },
  {
   "cell_type": "code",
   "execution_count": 408,
   "metadata": {
    "ExecuteTime": {
     "end_time": "2020-05-29T07:37:31.319523Z",
     "start_time": "2020-05-29T07:37:31.310280Z"
    }
   },
   "outputs": [],
   "source": [
    "def random_test():\n",
    "    test_index = random.randint(0, 5000)\n",
    "    test_X = data['X'][test_index]\n",
    "    learn_X = X[test_index]\n",
    "    test_imdata = test_X.reshape(20, 20).T\n",
    "    plt.imshow(test_imdata,\n",
    "               interpolation='bicubic',\n",
    "               cmap='gray',\n",
    "               origin='upper')\n",
    "    plt.grid()\n",
    "    test_pos = np.argmax(sigmoid(learn_X @ all_theta.T), axis=0) + 1\n",
    "    print('random is ', test_index + 1, ' img is ', test_pos)"
   ]
  },
  {
   "cell_type": "code",
   "execution_count": 411,
   "metadata": {
    "ExecuteTime": {
     "end_time": "2020-05-29T07:37:47.665376Z",
     "start_time": "2020-05-29T07:37:47.330371Z"
    }
   },
   "outputs": [
    {
     "name": "stdout",
     "output_type": "stream",
     "text": [
      "random is  3923  img is  7\n"
     ]
    },
    {
     "data": {
      "image/png": "[encoded data removed]",
      "text/plain": [
       "<Figure size 432x288 with 1 Axes>"
      ]
     },
     "metadata": {},
     "output_type": "display_data"
    }
   ],
   "source": [
    "random_test()"
   ]
  }
 ],
 "metadata": {
  "hide_input": false,
  "kernelspec": {
   "display_name": "Python 3.7.6 64-bit ('anaconda3': virtualenv)",
   "language": "python",
   "name": "python37664bitanaconda3virtualenv1a206e3fe7e04d1c9c26733c672439a3"
  },
  "language_info": {
   "codemirror_mode": {
    "name": "ipython",
    "version": 3
   },
   "file_extension": ".py",
   "mimetype": "text/x-python",
   "name": "python",
   "nbconvert_exporter": "python",
   "pygments_lexer": "ipython3",
   "version": "3.7.6"
  },
  "toc": {
   "base_numbering": 1,
   "nav_menu": {},
   "number_sections": true,
   "sideBar": true,
   "skip_h1_title": false,
   "title_cell": "Table of Contents",
   "title_sidebar": "Contents",
   "toc_cell": false,
   "toc_position": {},
   "toc_section_display": true,
   "toc_window_display": false
  },
  "varInspector": {
   "cols": {
    "lenName": 16,
    "lenType": 16,
    "lenVar": 40
   },
   "kernels_config": {
    "python": {
     "delete_cmd_postfix": "",
     "delete_cmd_prefix": "del ",
     "library": "var_list.py",
     "varRefreshCmd": "print(var_dic_list())"
    },
    "r": {
     "delete_cmd_postfix": ") ",
     "delete_cmd_prefix": "rm(",
     "library": "var_list.r",
     "varRefreshCmd": "cat(var_dic_list()) "
    }
   },
   "types_to_exclude": [
    "module",
    "function",
    "builtin_function_or_method",
    "instance",
    "_Feature"
   ],
   "window_display": false
  }
 },
 "nbformat": 4,
 "nbformat_minor": 4
}
