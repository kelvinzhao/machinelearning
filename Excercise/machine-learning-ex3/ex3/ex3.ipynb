{
 "cells": [
  {
   "cell_type": "markdown",
   "metadata": {},
   "source": [
    "## 手写数字识别"
   ]
  },
  {
   "cell_type": "markdown",
   "metadata": {},
   "source": [
    "### 先用one vs rest的方式实现"
   ]
  },
  {
   "cell_type": "code",
   "execution_count": 2,
   "metadata": {
    "ExecuteTime": {
     "end_time": "2020-06-03T03:24:03.931307Z",
     "start_time": "2020-06-03T03:24:03.588441Z"
    }
   },
   "outputs": [],
   "source": [
    "import pandas as pd\n",
    "import numpy as np\n",
    "import matplotlib.pyplot as plt\n",
    "from scipy.io import loadmat\n",
    "from scipy.optimize import minimize\n",
    "import random\n",
    "from sklearn.metrics import classification_report"
   ]
  },
  {
   "cell_type": "code",
   "execution_count": 3,
   "metadata": {
    "ExecuteTime": {
     "end_time": "2020-06-03T03:24:04.097760Z",
     "start_time": "2020-06-03T03:24:03.935998Z"
    }
   },
   "outputs": [
    {
     "name": "stdout",
     "output_type": "stream",
     "text": [
      "(5000, 400) (5000, 1)\n",
      "[ 1  2  3  4  5  6  7  8  9 10]\n"
     ]
    }
   ],
   "source": [
    "data = loadmat('ex3data1.mat')\n",
    "print(data['X'].shape, data['y'].shape)\n",
    "print(np.unique(data['y']))"
   ]
  },
  {
   "cell_type": "markdown",
   "metadata": {},
   "source": [
    "### 定义必要的方法"
   ]
  },
  {
   "cell_type": "code",
   "execution_count": 4,
   "metadata": {
    "ExecuteTime": {
     "end_time": "2020-06-03T03:24:04.135706Z",
     "start_time": "2020-06-03T03:24:04.107880Z"
    }
   },
   "outputs": [],
   "source": [
    "def sigmoid(z):\n",
    "    return 1 / (1 + np.exp(-z))\n",
    "\n",
    "\n",
    "def computeCost(theta, X, y, lam=1):\n",
    "    first = -np.log(sigmoid(theta.T @ X.T)) @ y\n",
    "    second = np.log(1 - sigmoid(theta.T @ X.T)) @ (1 - y)\n",
    "    reg = lam / (2 * len(y)) * (theta[1:].T @ theta[1:])\n",
    "    return (first - second) / len(y) + reg\n",
    "\n",
    "\n",
    "def gradient(theta, X, y, lam=1):\n",
    "    reg = lam * theta[1:] / len(y)\n",
    "    #reg = np.insert(reg,0,0)\n",
    "    reg = np.concatenate([[0], reg])\n",
    "    return X.T @ (sigmoid(X @ theta) - y) / len(y) + reg\n",
    "\n",
    "\n",
    "def one_vs_all(X, y, num_labels, lam=1):\n",
    "    all_theta = np.zeros((num_labels, X.shape[1]))\n",
    "    for i in range(1, num_labels + 1):\n",
    "        y_i = np.apply_along_axis(lambda x: np.where(x == i, 1, 0), 0,\n",
    "                                  y.ravel())\n",
    "        theta = np.zeros(X.shape[1])\n",
    "        result = minimize(fun=computeCost,\n",
    "                          x0=theta,\n",
    "                          args=(X, y_i, lam),\n",
    "                          method='TNC',\n",
    "                          jac=gradient)\n",
    "        all_theta[i - 1] = result.x\n",
    "    return all_theta"
   ]
  },
  {
   "cell_type": "markdown",
   "metadata": {},
   "source": [
    "### 构造数据"
   ]
  },
  {
   "cell_type": "code",
   "execution_count": 5,
   "metadata": {
    "ExecuteTime": {
     "end_time": "2020-06-03T03:24:04.178489Z",
     "start_time": "2020-06-03T03:24:04.142208Z"
    }
   },
   "outputs": [
    {
     "data": {
      "text/plain": [
       "((5000, 401), (5000, 1), (10, 401), (5000,), (401,))"
      ]
     },
     "execution_count": 5,
     "metadata": {},
     "output_type": "execute_result"
    }
   ],
   "source": [
    "# 测试一下各要素的维度是否正确\n",
    "X = data['X']\n",
    "y = data['y']\n",
    "X = np.insert(X, 0, 1, axis=1)\n",
    "all_theta = np.zeros((10, X.shape[1]))\n",
    "y_10 = np.apply_along_axis(lambda x: np.where(x == 10, 1, 0),\n",
    "                           axis=0,\n",
    "                           arr=y.ravel())\n",
    "theta = np.zeros(X.shape[1])\n",
    "X.shape, y.shape, all_theta.shape, y_10.shape, theta.shape"
   ]
  },
  {
   "cell_type": "code",
   "execution_count": 6,
   "metadata": {
    "ExecuteTime": {
     "end_time": "2020-06-03T03:24:12.848515Z",
     "start_time": "2020-06-03T03:24:04.183771Z"
    }
   },
   "outputs": [
    {
     "data": {
      "text/plain": [
       "array([[-2.38336222e+00,  0.00000000e+00,  0.00000000e+00, ...,\n",
       "         1.30430557e-03, -7.26793809e-10,  0.00000000e+00],\n",
       "       [-3.18324611e+00,  0.00000000e+00,  0.00000000e+00, ...,\n",
       "         4.45381262e-03, -5.07780661e-04,  0.00000000e+00],\n",
       "       [-4.79997519e+00,  0.00000000e+00,  0.00000000e+00, ...,\n",
       "        -2.87321309e-05, -2.47249198e-07,  0.00000000e+00],\n",
       "       ...,\n",
       "       [-7.98754897e+00,  0.00000000e+00,  0.00000000e+00, ...,\n",
       "        -8.96129212e-05,  7.23339068e-06,  0.00000000e+00],\n",
       "       [-4.57241623e+00,  0.00000000e+00,  0.00000000e+00, ...,\n",
       "        -1.33645939e-03,  9.99306115e-05,  0.00000000e+00],\n",
       "       [-5.40569111e+00,  0.00000000e+00,  0.00000000e+00, ...,\n",
       "        -1.16724192e-04,  7.88964179e-06,  0.00000000e+00]])"
      ]
     },
     "execution_count": 6,
     "metadata": {},
     "output_type": "execute_result"
    }
   ],
   "source": [
    "all_theta = one_vs_all(X, y, 10, lam=1)\n",
    "all_theta"
   ]
  },
  {
   "cell_type": "markdown",
   "metadata": {},
   "source": [
    "### 根据X值针对10个类别分别进行预测，并返回概率最高的类"
   ]
  },
  {
   "cell_type": "code",
   "execution_count": 7,
   "metadata": {
    "ExecuteTime": {
     "end_time": "2020-06-03T03:24:12.890768Z",
     "start_time": "2020-06-03T03:24:12.854102Z"
    }
   },
   "outputs": [],
   "source": [
    "def predict_all(theta, X):\n",
    "    pos = np.argmax(sigmoid(X @ theta.T), axis=1) + 1\n",
    "    return pos\n",
    "\n",
    "\n",
    "def accuracy(theta, X, y):\n",
    "    predictions = predict_all(theta, X)\n",
    "    print(predictions)\n",
    "    print(y.ravel())\n",
    "    #correct = [1 if a == b else 0 for (a, b) in zip(predictions, y.ravel())]\n",
    "    #accuracy = np.mean(correct)\n",
    "    accuracy = 1 - np.count_nonzero(predictions - y.ravel()) / len(predictions)\n",
    "    print('accuracy = {0}%'.format(accuracy * 100))"
   ]
  },
  {
   "cell_type": "code",
   "execution_count": 8,
   "metadata": {
    "ExecuteTime": {
     "end_time": "2020-06-03T03:24:12.931136Z",
     "start_time": "2020-06-03T03:24:12.899886Z"
    }
   },
   "outputs": [
    {
     "name": "stdout",
     "output_type": "stream",
     "text": [
      "[10 10 10 ...  9  9  7]\n",
      "[10 10 10 ...  9  9  9]\n",
      "accuracy = 94.46%\n"
     ]
    }
   ],
   "source": [
    "accuracy(all_theta,X,y)"
   ]
  },
  {
   "cell_type": "markdown",
   "metadata": {},
   "source": [
    "#### 用图片数据来校验\n",
    "随机调取一个图片的数据，识别其数字"
   ]
  },
  {
   "cell_type": "code",
   "execution_count": 9,
   "metadata": {
    "ExecuteTime": {
     "end_time": "2020-06-03T03:24:12.976373Z",
     "start_time": "2020-06-03T03:24:12.957258Z"
    }
   },
   "outputs": [],
   "source": [
    "def random_test():\n",
    "    test_index = random.randint(0, 5000)\n",
    "    test_X = data['X'][test_index]\n",
    "    learn_X = X[test_index]\n",
    "    test_imdata = test_X.reshape(20, 20).T\n",
    "    plt.imshow(test_imdata,\n",
    "               interpolation='bicubic',\n",
    "               cmap='gray',\n",
    "               origin='upper')\n",
    "    plt.grid()\n",
    "    test_pos = np.argmax(sigmoid(learn_X @ all_theta.T), axis=0) + 1\n",
    "    print('random is ', test_index + 1, ' img is ', test_pos)"
   ]
  },
  {
   "cell_type": "code",
   "execution_count": 10,
   "metadata": {
    "ExecuteTime": {
     "end_time": "2020-06-03T03:24:13.379153Z",
     "start_time": "2020-06-03T03:24:12.981289Z"
    },
    "scrolled": true
   },
   "outputs": [
    {
     "name": "stdout",
     "output_type": "stream",
     "text": [
      "random is  3584  img is  7\n"
     ]
    },
    {
     "data": {
      "image/png": "[encoded data removed]",
      "text/plain": [
       "<Figure size 432x288 with 1 Axes>"
      ]
     },
     "metadata": {},
     "output_type": "display_data"
    }
   ],
   "source": [
    "random_test()"
   ]
  },
  {
   "cell_type": "markdown",
   "metadata": {},
   "source": [
    "## 神经网络前向预测 Forward Prediction"
   ]
  },
  {
   "cell_type": "code",
   "execution_count": 13,
   "metadata": {
    "ExecuteTime": {
     "end_time": "2020-06-03T03:25:31.339437Z",
     "start_time": "2020-06-03T03:25:31.328889Z"
    }
   },
   "outputs": [
    {
     "data": {
      "text/plain": [
       "((25, 401), (10, 26))"
      ]
     },
     "execution_count": 13,
     "metadata": {},
     "output_type": "execute_result"
    }
   ],
   "source": [
    "data2 = loadmat('ex3weights.mat')\n",
    "data2['Theta1'].shape,data2['Theta2'].shape"
   ]
  },
  {
   "cell_type": "code",
   "execution_count": 14,
   "metadata": {
    "ExecuteTime": {
     "end_time": "2020-06-03T03:28:28.182234Z",
     "start_time": "2020-06-03T03:28:28.168268Z"
    }
   },
   "outputs": [
    {
     "data": {
      "text/plain": [
       "((5000, 401), (5000, 1))"
      ]
     },
     "execution_count": 14,
     "metadata": {},
     "output_type": "execute_result"
    }
   ],
   "source": [
    "Theta1 = data2['Theta1']\n",
    "Theta2 = data2['Theta2']\n",
    "# for i in range(1, num_labels + 1):\n",
    "#         y_i = np.apply_along_axis(lambda x: np.where(x == i, 1, 0), 0,\n",
    "#                                   y.ravel())\n",
    "\n",
    "X.shape,y.shape"
   ]
  },
  {
   "cell_type": "code",
   "execution_count": 20,
   "metadata": {
    "ExecuteTime": {
     "end_time": "2020-06-03T03:35:08.531465Z",
     "start_time": "2020-06-03T03:35:08.506116Z"
    }
   },
   "outputs": [
    {
     "data": {
      "text/plain": [
       "array([[1.38245045e-04, 2.05540079e-03, 3.04012453e-03, ...,\n",
       "        4.91017499e-04, 7.74325818e-03, 9.96229459e-01],\n",
       "       [5.87756717e-04, 2.85026516e-03, 4.14687943e-03, ...,\n",
       "        2.92311247e-03, 2.35616705e-03, 9.96196668e-01],\n",
       "       [1.08683616e-04, 3.82659802e-03, 3.05855129e-02, ...,\n",
       "        7.51453949e-02, 6.57039547e-03, 9.35862781e-01],\n",
       "       ...,\n",
       "       [6.27824726e-02, 4.50406476e-03, 3.54510925e-02, ...,\n",
       "        2.63669734e-03, 6.89448164e-01, 2.74369466e-05],\n",
       "       [1.01908736e-03, 7.34360211e-04, 3.78558700e-04, ...,\n",
       "        1.45616578e-02, 9.75989758e-01, 2.33374461e-04],\n",
       "       [5.90807037e-05, 5.41717668e-04, 2.58968308e-05, ...,\n",
       "        7.00508308e-03, 7.32814653e-01, 9.16696059e-02]])"
      ]
     },
     "execution_count": 20,
     "metadata": {},
     "output_type": "execute_result"
    }
   ],
   "source": [
    "a1 = X\n",
    "a1.shape\n",
    "z2 = a1 @ Theta1.T #(5000,401) * (401,25) = (5000,25)\n",
    "z2 = np.insert(z2,0,np.ones(z2.shape[0]),axis=1)\n",
    "a2 = sigmoid(z2)\n",
    "z3 = a2 @ Theta2.T #(5000,26) * (26,10) = (5000,10)\n",
    "a3 = sigmoid(z3)  # output\n",
    "a3"
   ]
  },
  {
   "cell_type": "code",
   "execution_count": 26,
   "metadata": {
    "ExecuteTime": {
     "end_time": "2020-06-03T03:38:52.361080Z",
     "start_time": "2020-06-03T03:38:52.340238Z"
    }
   },
   "outputs": [
    {
     "name": "stdout",
     "output_type": "stream",
     "text": [
      "              precision    recall  f1-score   support\n",
      "\n",
      "           1       0.97      0.98      0.97       500\n",
      "           2       0.98      0.97      0.97       500\n",
      "           3       0.98      0.96      0.97       500\n",
      "           4       0.97      0.97      0.97       500\n",
      "           5       0.98      0.98      0.98       500\n",
      "           6       0.97      0.99      0.98       500\n",
      "           7       0.98      0.97      0.97       500\n",
      "           8       0.98      0.98      0.98       500\n",
      "           9       0.97      0.96      0.96       500\n",
      "          10       0.98      0.99      0.99       500\n",
      "\n",
      "    accuracy                           0.98      5000\n",
      "   macro avg       0.98      0.98      0.98      5000\n",
      "weighted avg       0.98      0.98      0.98      5000\n",
      "\n"
     ]
    }
   ],
   "source": [
    "y_pred =np.argmax(a3, axis=1) + 1\n",
    "print(classification_report(y.ravel(),y_pred))"
   ]
  }
 ],
 "metadata": {
  "hide_input": false,
  "kernelspec": {
   "display_name": "Python 3.7.6 64-bit ('anaconda3': virtualenv)",
   "language": "python",
   "name": "python37664bitanaconda3virtualenv1a206e3fe7e04d1c9c26733c672439a3"
  },
  "language_info": {
   "codemirror_mode": {
    "name": "ipython",
    "version": 3
   },
   "file_extension": ".py",
   "mimetype": "text/x-python",
   "name": "python",
   "nbconvert_exporter": "python",
   "pygments_lexer": "ipython3",
   "version": "3.7.6"
  },
  "toc": {
   "base_numbering": 1,
   "nav_menu": {},
   "number_sections": true,
   "sideBar": true,
   "skip_h1_title": false,
   "title_cell": "Table of Contents",
   "title_sidebar": "Contents",
   "toc_cell": false,
   "toc_position": {},
   "toc_section_display": true,
   "toc_window_display": false
  },
  "varInspector": {
   "cols": {
    "lenName": 16,
    "lenType": 16,
    "lenVar": 40
   },
   "kernels_config": {
    "python": {
     "delete_cmd_postfix": "",
     "delete_cmd_prefix": "del ",
     "library": "var_list.py",
     "varRefreshCmd": "print(var_dic_list())"
    },
    "r": {
     "delete_cmd_postfix": ") ",
     "delete_cmd_prefix": "rm(",
     "library": "var_list.r",
     "varRefreshCmd": "cat(var_dic_list()) "
    }
   },
   "types_to_exclude": [
    "module",
    "function",
    "builtin_function_or_method",
    "instance",
    "_Feature"
   ],
   "window_display": false
  }
 },
 "nbformat": 4,
 "nbformat_minor": 4
}
