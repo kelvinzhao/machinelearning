{
 "cells": [
  {
   "cell_type": "markdown",
   "metadata": {},
   "source": [
    "关于 SVM 的直观理解，可参看：https://www.youtube.com/watch?v=3liCbRZPrZA"
   ]
  },
  {
   "cell_type": "code",
   "execution_count": 51,
   "metadata": {
    "ExecuteTime": {
     "end_time": "2020-05-28T06:48:25.853090Z",
     "start_time": "2020-05-28T06:48:25.838383Z"
    }
   },
   "outputs": [
    {
     "ename": "SyntaxError",
     "evalue": "non-default argument follows default argument (<ipython-input-51-58b53cde9a11>, line 22)",
     "output_type": "error",
     "traceback": [
      "\u001b[0;36m  File \u001b[0;32m\"<ipython-input-51-58b53cde9a11>\"\u001b[0;36m, line \u001b[0;32m22\u001b[0m\n\u001b[0;31m    def learn_svc(df, C=6,k='rbf',gamma):\u001b[0m\n\u001b[0m                 ^\u001b[0m\n\u001b[0;31mSyntaxError\u001b[0m\u001b[0;31m:\u001b[0m non-default argument follows default argument\n"
     ]
    }
   ],
   "source": [
    "import numpy as np\n",
    "import pandas as pd\n",
    "import matplotlib.pyplot as plt\n",
    "from sklearn.svm import SVC, LinearSVC\n",
    "from sklearn.metrics import accuracy_score\n",
    "\n",
    "data = pd.read_csv('ex2data1.txt',\n",
    "                   header=None,\n",
    "                   names=['Exam 1', 'Exam 2', 'Admitted'])\n",
    "\n",
    "data2 = pd.read_csv('ex2data2.txt',\n",
    "                    header=None,\n",
    "                    names=['Test 1', 'Test 2', 'Accepted'])\n",
    "\n",
    "\n",
    "def get_Xy(df):\n",
    "    X = df.iloc[:, :-1].values\n",
    "    y = df.iloc[:, -1]\n",
    "    return X, y\n",
    "\n",
    "\n",
    "def learn_svc(df, C=6, gamma,k='rbf'):\n",
    "    X, y = get_Xy(df)\n",
    "    svc = SVC(C=C, kernel=k, gamma=gamma)\n",
    "    svc.fit(X, y)\n",
    "    pre_y = svc.predict(X)\n",
    "    accuracy = accuracy_score(y, pre_y)\n",
    "    return svc, accuracy"
   ]
  },
  {
   "cell_type": "code",
   "execution_count": 50,
   "metadata": {
    "ExecuteTime": {
     "end_time": "2020-05-28T06:47:40.946000Z",
     "start_time": "2020-05-28T06:47:40.914946Z"
    }
   },
   "outputs": [
    {
     "ename": "TypeError",
     "evalue": "learn_svc() got an unexpected keyword argument 'gamma'",
     "output_type": "error",
     "traceback": [
      "\u001b[0;31m---------------------------------------------------------------------------\u001b[0m",
      "\u001b[0;31mTypeError\u001b[0m                                 Traceback (most recent call last)",
      "\u001b[0;32m<ipython-input-50-3180a967b141>\u001b[0m in \u001b[0;36m<module>\u001b[0;34m\u001b[0m\n\u001b[1;32m     30\u001b[0m \u001b[0;34m\u001b[0m\u001b[0m\n\u001b[1;32m     31\u001b[0m \u001b[0;34m\u001b[0m\u001b[0m\n\u001b[0;32m---> 32\u001b[0;31m \u001b[0msvc_data\u001b[0m\u001b[0;34m,\u001b[0m \u001b[0macc_1\u001b[0m \u001b[0;34m=\u001b[0m \u001b[0mlearn_svc\u001b[0m\u001b[0;34m(\u001b[0m\u001b[0mdata\u001b[0m\u001b[0;34m,\u001b[0m \u001b[0mC\u001b[0m\u001b[0;34m=\u001b[0m\u001b[0;36m6\u001b[0m\u001b[0;34m,\u001b[0m \u001b[0mk\u001b[0m\u001b[0;34m=\u001b[0m\u001b[0;34m'rbf'\u001b[0m\u001b[0;34m,\u001b[0m\u001b[0mgamma\u001b[0m\u001b[0;34m=\u001b[0m\u001b[0;36m2\u001b[0m\u001b[0;34m**\u001b[0m\u001b[0;36m1\u001b[0m\u001b[0;34m)\u001b[0m\u001b[0;34m\u001b[0m\u001b[0;34m\u001b[0m\u001b[0m\n\u001b[0m\u001b[1;32m     33\u001b[0m \u001b[0msvc_data2\u001b[0m\u001b[0;34m,\u001b[0m \u001b[0macc_2\u001b[0m \u001b[0;34m=\u001b[0m \u001b[0mlearn_svc\u001b[0m\u001b[0;34m(\u001b[0m\u001b[0mdata2\u001b[0m\u001b[0;34m,\u001b[0m \u001b[0mC\u001b[0m\u001b[0;34m=\u001b[0m\u001b[0;36m6\u001b[0m\u001b[0;34m)\u001b[0m  \u001b[0;31m# default kernel is 'rbf'\u001b[0m\u001b[0;34m\u001b[0m\u001b[0;34m\u001b[0m\u001b[0m\n\u001b[1;32m     34\u001b[0m \u001b[0mprint\u001b[0m\u001b[0;34m(\u001b[0m\u001b[0;34m'accuracy of data 1 is'\u001b[0m\u001b[0;34m,\u001b[0m \u001b[0macc_1\u001b[0m\u001b[0;34m)\u001b[0m\u001b[0;34m\u001b[0m\u001b[0;34m\u001b[0m\u001b[0m\n",
      "\u001b[0;31mTypeError\u001b[0m: learn_svc() got an unexpected keyword argument 'gamma'"
     ]
    }
   ],
   "source": [
    "def plot_dataset(df):\n",
    "    positive = df[df.iloc[:, -1] == 1]\n",
    "    negative = df[df.iloc[:, -1] == 0]\n",
    "    fig, ax = plt.subplots(figsize=(9, 9))\n",
    "    ax.scatter(positive.iloc[:, 0],\n",
    "               positive.iloc[:, 1],\n",
    "               color='b',\n",
    "               marker='o',\n",
    "               s=100,\n",
    "               label='Positive')\n",
    "    ax.scatter(negative.iloc[:, 0],\n",
    "               negative.iloc[:, 1],\n",
    "               color='r',\n",
    "               marker='x',\n",
    "               s=100,\n",
    "               label='Negative')\n",
    "    ax.legend()\n",
    "    ax.set_xlabel(df.columns[0])\n",
    "    ax.set_ylabel(df.columns[1])\n",
    "\n",
    "\n",
    "def plot_predictions(clf, axes):\n",
    "    x0s = np.linspace(axes[0], axes[1], 200)\n",
    "    x1s = np.linspace(axes[2], axes[3], 200)\n",
    "    x0, x1 = np.meshgrid(x0s, x1s)\n",
    "    X = np.c_[x0.ravel(), x1.ravel()]\n",
    "    y_pred = clf.predict(X)\n",
    "    y_pred = y_pred.reshape(x0.shape)\n",
    "    plt.contourf(x0, x1, y_pred, cmap=plt.cm.brg, alpha=0.2)\n",
    "\n",
    "\n",
    "svc_data, acc_1 = learn_svc(data, C=6, k='rbf',gamma=2**1)\n",
    "svc_data2, acc_2 = learn_svc(data2, C=6,gamma=2**1)  # default kernel is 'rbf'\n",
    "print('accuracy of data 1 is', acc_1)\n",
    "print('accuracy of data 2 is', acc_2)\n",
    "\n",
    "plot_dataset(data)\n",
    "plot_predictions(svc_data, [30, 100, 30, 100])\n",
    "\n",
    "plot_dataset(data2)\n",
    "plot_predictions(svc_data2, [-1, 1.25, -1, 1.25])\n",
    "\n",
    "plt.show()"
   ]
  },
  {
   "cell_type": "code",
   "execution_count": null,
   "metadata": {
    "ExecuteTime": {
     "end_time": "2020-05-27T23:21:44.768574Z",
     "start_time": "2020-05-27T23:21:44.758862Z"
    }
   },
   "outputs": [],
   "source": []
  }
 ],
 "metadata": {
  "hide_input": false,
  "kernelspec": {
   "display_name": "Python 3.7.6 64-bit ('anaconda3': virtualenv)",
   "language": "python",
   "name": "python37664bitanaconda3virtualenv1a206e3fe7e04d1c9c26733c672439a3"
  },
  "language_info": {
   "codemirror_mode": {
    "name": "ipython",
    "version": 3
   },
   "file_extension": ".py",
   "mimetype": "text/x-python",
   "name": "python",
   "nbconvert_exporter": "python",
   "pygments_lexer": "ipython3",
   "version": "3.7.6"
  },
  "toc": {
   "base_numbering": 1,
   "nav_menu": {},
   "number_sections": true,
   "sideBar": true,
   "skip_h1_title": false,
   "title_cell": "Table of Contents",
   "title_sidebar": "Contents",
   "toc_cell": false,
   "toc_position": {},
   "toc_section_display": true,
   "toc_window_display": false
  },
  "varInspector": {
   "cols": {
    "lenName": 16,
    "lenType": 16,
    "lenVar": 40
   },
   "kernels_config": {
    "python": {
     "delete_cmd_postfix": "",
     "delete_cmd_prefix": "del ",
     "library": "var_list.py",
     "varRefreshCmd": "print(var_dic_list())"
    },
    "r": {
     "delete_cmd_postfix": ") ",
     "delete_cmd_prefix": "rm(",
     "library": "var_list.r",
     "varRefreshCmd": "cat(var_dic_list()) "
    }
   },
   "types_to_exclude": [
    "module",
    "function",
    "builtin_function_or_method",
    "instance",
    "_Feature"
   ],
   "window_display": false
  }
 },
 "nbformat": 4,
 "nbformat_minor": 4
}
